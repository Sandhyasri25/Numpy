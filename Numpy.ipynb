{
 "cells": [
  {
   "cell_type": "code",
   "execution_count": 9,
   "id": "d07453ea-3c05-47c4-aeb6-aedefa7d65db",
   "metadata": {},
   "outputs": [
    {
     "name": "stdout",
     "output_type": "stream",
     "text": [
      "[1 2 3]\n",
      "[1 2 3]\n",
      "[[1 2]\n",
      " [3 4]]\n"
     ]
    }
   ],
   "source": [
    "import numpy as np\n",
    "arr=np.array([1,2,3])\n",
    "print(arr)\n",
    "arr=np.array([1,2,3])\n",
    "print(arr)\n",
    "arr_2d=np.array([[1,2],[3,4]])\n",
    "print(arr_2d)"
   ]
  },
  {
   "cell_type": "code",
   "execution_count": 11,
   "id": "f461ff81-f67f-4361-884c-b45e386ec0c6",
   "metadata": {},
   "outputs": [
    {
     "name": "stdout",
     "output_type": "stream",
     "text": [
      "shape: (2, 3)\n",
      "size: 6\n",
      "dimension: 2\n"
     ]
    }
   ],
   "source": [
    "import numpy as np\n",
    "arr=np.array([[1,2,3],[4,5,6]])\n",
    "print(\"shape:\",arr.shape)\n",
    "print(\"size:\",arr.size)\n",
    "print(\"dimension:\",arr.ndim)"
   ]
  },
  {
   "cell_type": "code",
   "execution_count": 13,
   "id": "99f9fc3b-1828-43c9-899e-f947bd53b635",
   "metadata": {},
   "outputs": [
    {
     "name": "stdout",
     "output_type": "stream",
     "text": [
      "[[1 2 3]\n",
      " [4 5 6]]\n",
      "[[1 2]\n",
      " [3 4]\n",
      " [5 6]]\n",
      "[[1 2 3]\n",
      " [4 5 6]]\n"
     ]
    }
   ],
   "source": [
    "import numpy as np\n",
    "arr=np.array([1,2,3,4,5,6])\n",
    "reshaped_arr =arr.reshape(2,3)\n",
    "print(reshaped_arr)\n",
    "reshaped_arr =arr.reshape(3,2)\n",
    "print(reshaped_arr)\n",
    "reshaped_arr =arr.reshape(-1,3)\n",
    "print(reshaped_arr)"
   ]
  },
  {
   "cell_type": "code",
   "execution_count": 15,
   "id": "06ca3245-cfe9-4689-bf2c-8212270a0692",
   "metadata": {},
   "outputs": [
    {
     "name": "stdout",
     "output_type": "stream",
     "text": [
      "[1 2 3 4 5 6]\n"
     ]
    }
   ],
   "source": [
    "import numpy as np\n",
    "arr_2d=np.array([[1,2,3],[4,5,6]])\n",
    "flattened_arr=arr_2d.flatten()\n",
    "print(flattened_arr)\n"
   ]
  },
  {
   "cell_type": "code",
   "execution_count": 23,
   "id": "4071d124-95f8-4fde-8f74-5b00a84d3331",
   "metadata": {},
   "outputs": [
    {
     "name": "stdin",
     "output_type": "stream",
     "text": [
      "enter the list 1\n",
      "enter the list 2\n"
     ]
    },
    {
     "name": "stdout",
     "output_type": "stream",
     "text": [
      "[1]\n",
      "[2]\n",
      "[[1]\n",
      " [2]]\n",
      "[[2]\n",
      " [1]]\n"
     ]
    }
   ],
   "source": [
    "import numpy as np\n",
    "arr=int(input(\"enter the list\"))\n",
    "arr_2=int(input(\"enter the list\"))\n",
    "print([arr])\n",
    "print([arr_2])\n",
    "reshaped_arr=np.array([[arr],[arr_2]])\n",
    "print(reshaped_arr)\n",
    "reshaped_arr=np.array([[arr_2],[arr]])\n",
    "print(reshaped_arr)"
   ]
  },
  {
   "cell_type": "code",
   "execution_count": 25,
   "id": "a6cf0776-4b83-4947-9430-581ca6367d12",
   "metadata": {},
   "outputs": [
    {
     "name": "stdout",
     "output_type": "stream",
     "text": [
      "30\n",
      "[20 30 40]\n",
      "[[4 5 6]\n",
      " [7 8 9]]\n"
     ]
    }
   ],
   "source": [
    "import numpy as np\n",
    "arr=np.array([10,20,30,40,50])\n",
    "print(arr[2])\n",
    "print(arr[1:4])\n",
    "arr_2d=np.array([[1,2,3],[4,5,6],[7,8,9]])\n",
    "print(arr_2d[1:,:3])"
   ]
  },
  {
   "cell_type": "code",
   "execution_count": 27,
   "id": "740bb45f-f195-4f52-b2b1-06b979e371b3",
   "metadata": {},
   "outputs": [
    {
     "name": "stdout",
     "output_type": "stream",
     "text": [
      "[0 2 4 6 8]\n",
      "[0.   0.25 0.5  0.75 1.  ]\n",
      "[  10.           46.41588834  215.443469   1000.        ]\n"
     ]
    }
   ],
   "source": [
    "import numpy as np\n",
    "arr=np.arange(0,10,2)\n",
    "print(arr)\n",
    "arr=np.linspace(0,1,5)\n",
    "print(arr)\n",
    "arr=np.logspace(1,3,4)\n",
    "print(arr)"
   ]
  },
  {
   "cell_type": "code",
   "execution_count": 29,
   "id": "e277ff3c-5581-4c4d-a97d-5ea0bffabb9e",
   "metadata": {},
   "outputs": [
    {
     "name": "stdout",
     "output_type": "stream",
     "text": [
      "[[0. 0. 0.]\n",
      " [0. 0. 0.]]\n",
      "[[1. 1. 1.]\n",
      " [1. 1. 1.]]\n",
      "[[1 0 0 0]\n",
      " [0 1 0 0]\n",
      " [0 0 1 0]\n",
      " [0 0 0 1]]\n"
     ]
    }
   ],
   "source": [
    "import numpy as np\n",
    "zeros=np.zeros([2,3])\n",
    "print(zeros)\n",
    "ones=np.ones([2,3])\n",
    "print(ones)\n",
    "identity=np.eye(4,dtype=int)\n",
    "print(identity)\n"
   ]
  },
  {
   "cell_type": "code",
   "execution_count": 31,
   "id": "af10bfc4-f973-453c-8725-8f161647221c",
   "metadata": {},
   "outputs": [
    {
     "name": "stdout",
     "output_type": "stream",
     "text": [
      "[[0.10594758 0.57505613 0.34959006]\n",
      " [0.64310022 0.05333576 0.18801767]]\n",
      "[[1 6 1]\n",
      " [7 1 3]\n",
      " [4 3 9]]\n"
     ]
    }
   ],
   "source": [
    "import numpy as np\n",
    "random_floats=np.random.rand(2,3)\n",
    "print(random_floats)\n",
    "random_ints=np.random.randint(1,10,(3,3))\n",
    "print(random_ints)"
   ]
  },
  {
   "cell_type": "code",
   "execution_count": 36,
   "id": "7db85c04-d030-40da-88fa-b03103d4fb26",
   "metadata": {},
   "outputs": [
    {
     "name": "stdin",
     "output_type": "stream",
     "text": [
      "Enter start value:  2\n",
      "Enter end value:  3\n",
      "Enter step value:  4\n"
     ]
    },
    {
     "name": "stdout",
     "output_type": "stream",
     "text": [
      "[2]\n"
     ]
    },
    {
     "name": "stdin",
     "output_type": "stream",
     "text": [
      "Enter start value:  5\n",
      "Enter end value:  6\n",
      "Enter number of samples:  6\n"
     ]
    },
    {
     "name": "stdout",
     "output_type": "stream",
     "text": [
      "[5.  5.2 5.4 5.6 5.8 6. ]\n"
     ]
    },
    {
     "name": "stdin",
     "output_type": "stream",
     "text": [
      "Enter start value:  1\n",
      "Enter end value:  2\n",
      "Enter number of samples:  3\n"
     ]
    },
    {
     "name": "stdout",
     "output_type": "stream",
     "text": [
      "2\n"
     ]
    }
   ],
   "source": [
    "import numpy as np\n",
    "start = int(input(\"Enter start value: \"))\n",
    "end = int(input(\"Enter end value: \"))\n",
    "step = int(input(\"Enter step value: \"))\n",
    "arr = np.arange(start, end, step)\n",
    "print(arr)\n",
    "start = int(input(\"Enter start value: \"))\n",
    "end = int(input(\"Enter end value: \"))\n",
    "step = int(input(\"Enter number of samples: \"))  \n",
    "arr_1 = np.linspace(start, end, step)\n",
    "print(arr_1)\n",
    "start = int(input(\"Enter start value: \"))\n",
    "end = int(input(\"Enter end value: \"))\n",
    "step = int(input(\"Enter number of samples: \"))  \n",
    "arr = np.logspace(start, end, step)\n",
    "print(arr_2)\n",
    "    "
   ]
  },
  {
   "cell_type": "code",
   "execution_count": 40,
   "id": "166fbf8b-a8a0-4750-b7dc-f03712da08c7",
   "metadata": {},
   "outputs": [
    {
     "name": "stdout",
     "output_type": "stream",
     "text": [
      "[[0 0 0]\n",
      " [0 0 0]]\n",
      "[[1 1 1]\n",
      " [1 1 1]]\n",
      "[[1 0 0]\n",
      " [0 1 0]\n",
      " [0 0 1]]\n"
     ]
    }
   ],
   "source": [
    "import numpy as np\n",
    "zeros=np.zeros([2,3],\"i\")\n",
    "print(zeros)\n",
    "ones=np.ones([2,3],\"i\")\n",
    "print(ones)\n",
    "identity=np.eye(3,dtype=int)\n",
    "print(identity)"
   ]
  },
  {
   "cell_type": "code",
   "execution_count": 46,
   "id": "0c9063b7-b9b5-4aad-b83f-776709466271",
   "metadata": {},
   "outputs": [
    {
     "name": "stdin",
     "output_type": "stream",
     "text": [
      "enter row: 4\n",
      "enter col: 4\n",
      "matrix: 2\n",
      "martix2: 2\n"
     ]
    },
    {
     "name": "stdout",
     "output_type": "stream",
     "text": [
      "[[0 0 0 0]\n",
      " [0 0 0 0]\n",
      " [0 0 0 0]\n",
      " [0 0 0 0]]\n",
      "[[0.74749315 0.06378046 0.11177759 0.39218753]\n",
      " [0.33697206 0.67551423 0.44346424 0.60271998]\n",
      " [0.4536931  0.86037894 0.3245691  0.96939242]\n",
      " [0.67200796 0.39973163 0.49495508 0.56297528]]\n"
     ]
    },
    {
     "ename": "ValueError",
     "evalue": "low >= high",
     "output_type": "error",
     "traceback": [
      "\u001b[1;31m---------------------------------------------------------------------------\u001b[0m",
      "\u001b[1;31mValueError\u001b[0m                                Traceback (most recent call last)",
      "Cell \u001b[1;32mIn[46], line 10\u001b[0m\n\u001b[0;32m      8\u001b[0m random_f\u001b[38;5;241m=\u001b[39mnp\u001b[38;5;241m.\u001b[39mrandom\u001b[38;5;241m.\u001b[39mrand(r,c)\n\u001b[0;32m      9\u001b[0m \u001b[38;5;28mprint\u001b[39m(random_f)\n\u001b[1;32m---> 10\u001b[0m \u001b[38;5;28mprint\u001b[39m(np\u001b[38;5;241m.\u001b[39mrandom\u001b[38;5;241m.\u001b[39mrandint(r,c,(r1,c1)))\n",
      "File \u001b[1;32mnumpy\\\\random\\\\mtrand.pyx:780\u001b[0m, in \u001b[0;36mnumpy.random.mtrand.RandomState.randint\u001b[1;34m()\u001b[0m\n",
      "File \u001b[1;32mnumpy\\\\random\\\\_bounded_integers.pyx:1425\u001b[0m, in \u001b[0;36mnumpy.random._bounded_integers._rand_int32\u001b[1;34m()\u001b[0m\n",
      "\u001b[1;31mValueError\u001b[0m: low >= high"
     ]
    }
   ],
   "source": [
    "import numpy as np\n",
    "r=int(input(\"enter row:\"))\n",
    "c=int(input(\"enter col:\"))\n",
    "r1=int(input(\"matrix:\"))\n",
    "c1=int(input(\"martix2:\"))\n",
    "zeros=np.zeros([r,c],\"i\")\n",
    "print(zeros)\n",
    "random_f=np.random.rand(r,c)\n",
    "print(random_f)\n",
    "print(np.random.randint(r,c,(r1,c1)))"
   ]
  },
  {
   "cell_type": "code",
   "execution_count": 48,
   "id": "3ca5c0aa-5bc3-4a85-805b-21084e9fbfec",
   "metadata": {},
   "outputs": [
    {
     "name": "stdout",
     "output_type": "stream",
     "text": [
      "[5 7 9]\n",
      "[-3 -3 -3]\n",
      "[ 4 10 18]\n",
      "[0.25 0.4  0.5 ]\n"
     ]
    }
   ],
   "source": [
    "import numpy as np\n",
    "a=np.array([1,2,3])\n",
    "b=np.array([4,5,6])\n",
    "print(a+b)\n",
    "print(a-b)\n",
    "print(a*b)\n",
    "print(a/b)"
   ]
  },
  {
   "cell_type": "code",
   "execution_count": 50,
   "id": "d07519a7-8572-4a64-a89e-ab8639863f6d",
   "metadata": {},
   "outputs": [
    {
     "name": "stdout",
     "output_type": "stream",
     "text": [
      "[[19 22]\n",
      " [43 50]]\n"
     ]
    }
   ],
   "source": [
    "import numpy as np\n",
    "a=np.array(([[1,2],[3,4]]))\n",
    "b=np.array([[5,6],[7,8]])\n",
    "result=np.dot(a,b)\n",
    "print(result)\n"
   ]
  },
  {
   "cell_type": "code",
   "execution_count": 52,
   "id": "3c6b85c6-babe-4cc1-9157-53a5a0f44c8d",
   "metadata": {},
   "outputs": [
    {
     "name": "stdout",
     "output_type": "stream",
     "text": [
      "[[11 12 13]\n",
      " [21 22 23]\n",
      " [31 32 33]]\n"
     ]
    }
   ],
   "source": [
    "import numpy as np\n",
    "a=np.array([1,2,3])\n",
    "b=np.array([[10],[20],[30]])\n",
    "print(a+b)"
   ]
  },
  {
   "cell_type": "code",
   "execution_count": 54,
   "id": "a4224fb1-14e9-4033-9997-6ba8c0b92108",
   "metadata": {},
   "outputs": [
    {
     "name": "stdout",
     "output_type": "stream",
     "text": [
      "sum: 21\n",
      "minimum: 1\n",
      "maximum: 6\n",
      "mean: 3.5\n"
     ]
    }
   ],
   "source": [
    "import numpy as np\n",
    "arr=np.array([[1,2,3],[4,5,6]])\n",
    "print(\"sum:\",np.sum(arr))\n",
    "print(\"minimum:\",np.min(arr))\n",
    "print(\"maximum:\",np.max(arr))\n",
    "print(\"mean:\",np.mean(arr))"
   ]
  },
  {
   "cell_type": "code",
   "execution_count": 56,
   "id": "e3bfedae-7dc1-44d3-81e3-2dd75db62fa3",
   "metadata": {},
   "outputs": [
    {
     "name": "stdout",
     "output_type": "stream",
     "text": [
      "[5 7 9]\n",
      "[2 5]\n"
     ]
    }
   ],
   "source": [
    "import numpy as np\n",
    "arr=np.array([[1,2,3],[4,5,6]])\n",
    "print(np.sum(arr,axis=0))\n",
    "print(np.mean(arr,axis=1,dtype=int))\n"
   ]
  },
  {
   "cell_type": "code",
   "execution_count": 58,
   "id": "2424316c-60c7-441b-964f-fca1797b77ce",
   "metadata": {},
   "outputs": [
    {
     "name": "stdout",
     "output_type": "stream",
     "text": [
      "[ 1  3  6 10]\n",
      "[ 1  2  6 24]\n"
     ]
    }
   ],
   "source": [
    "import numpy as np\n",
    "arr=np.array([1,2,3,4])\n",
    "print(np.cumsum(arr))\n",
    "print(np.cumprod(arr))\n"
   ]
  },
  {
   "cell_type": "code",
   "execution_count": 60,
   "id": "2e5b83f2-4d6a-4309-9755-ebd55c958b4c",
   "metadata": {},
   "outputs": [
    {
     "name": "stdout",
     "output_type": "stream",
     "text": [
      "[ 1  3  7 10]\n",
      "[3 1 2 0]\n"
     ]
    }
   ],
   "source": [
    "import numpy as np\n",
    "arr=np.array([10,3,7,1])\n",
    "sorted_arr=np.sort(arr)\n",
    "print(sorted_arr)\n",
    "sorted_indices=np.argsort(arr)\n",
    "print(sorted_indices)"
   ]
  },
  {
   "cell_type": "code",
   "execution_count": 62,
   "id": "ab334ca1-d45d-43a9-b033-561688cfb037",
   "metadata": {},
   "outputs": [
    {
     "name": "stdout",
     "output_type": "stream",
     "text": [
      "[1 2 3]\n"
     ]
    }
   ],
   "source": [
    "import numpy as np\n",
    "arr=np.array([1,2,3,2,2,3,3,3])\n",
    "unique_elements=np.unique(arr)\n",
    "print(unique_elements)"
   ]
  },
  {
   "cell_type": "code",
   "execution_count": 64,
   "id": "3a7adbe8-f0f2-42b0-8124-4d42c4b236db",
   "metadata": {},
   "outputs": [
    {
     "name": "stdout",
     "output_type": "stream",
     "text": [
      "(array([2, 3], dtype=int64),)\n",
      "[20 25]\n"
     ]
    }
   ],
   "source": [
    "import numpy as np\n",
    "arr=np.array([10,15,20,25])\n",
    "indices=np.where(arr>15)\n",
    "print(indices)\n",
    "values=arr[np.where(arr>15)]\n",
    "print(values)\n"
   ]
  },
  {
   "cell_type": "code",
   "execution_count": 66,
   "id": "d75610ab-b158-49f1-9b64-476325d50c1b",
   "metadata": {},
   "outputs": [
    {
     "name": "stdout",
     "output_type": "stream",
     "text": [
      "[[1 4]\n",
      " [2 5]\n",
      " [3 6]]\n"
     ]
    }
   ],
   "source": [
    "import numpy as np\n",
    "arr=np.array([[1,2,3],[4,5,6]])\n",
    "print(np.transpose(arr))\n"
   ]
  },
  {
   "cell_type": "code",
   "execution_count": 68,
   "id": "6d9da248-d87c-4518-ba4d-2eb647cd47fd",
   "metadata": {},
   "outputs": [
    {
     "name": "stdout",
     "output_type": "stream",
     "text": [
      "-2.0000000000000004\n",
      "[[-2.   1. ]\n",
      " [ 1.5 -0.5]]\n"
     ]
    }
   ],
   "source": [
    "import numpy as np\n",
    "arr=np.array([[1,2],[3,4]])\n",
    "det = np.linalg.det(arr)\n",
    "print(det)\n",
    "inv=np.linalg.inv(arr)\n",
    "print(inv)\n"
   ]
  },
  {
   "cell_type": "code",
   "execution_count": 70,
   "id": "5db4e9ed-af3e-46b9-9c4f-c73247946661",
   "metadata": {},
   "outputs": [
    {
     "name": "stdout",
     "output_type": "stream",
     "text": [
      "[[1 2 3]\n",
      " [7 8 9]\n",
      " [4 5 6]\n",
      " [3 2 1]]\n"
     ]
    }
   ],
   "source": [
    "import numpy as np\n",
    "a=np.array([[1,2,3],[7,8,9]])\n",
    "b=np.array([[4,5,6],[3,2,1]])\n",
    "concated=np.concatenate([a,b])\n",
    "print(concated)\n"
   ]
  },
  {
   "cell_type": "code",
   "execution_count": 82,
   "id": "84793bcb-138b-49b3-9479-bbde6d3e81ce",
   "metadata": {},
   "outputs": [
    {
     "name": "stdout",
     "output_type": "stream",
     "text": [
      "[array([1, 2]), array([3, 4]), array([5, 6])]\n"
     ]
    }
   ],
   "source": [
    "import numpy as np\n",
    "arr=np.array([1,2,3,4,5,6])\n",
    "arr1=np.array([[11,12,13],[14,15,16],[20,21,23]])\n",
    "split_arr=np.split(arr,3)\n",
    "print(split_arr)\n"
   ]
  },
  {
   "cell_type": "code",
   "execution_count": 1,
   "id": "c47078be-ca92-48a6-bb88-213c6fade9e7",
   "metadata": {},
   "outputs": [
    {
     "name": "stdout",
     "output_type": "stream",
     "text": [
      "sum: 45\n",
      "[2 5 8]\n",
      "[[2 7 6]\n",
      " [9 5 1]\n",
      " [4 3 8]]\n",
      "[[2 7 6]\n",
      " [9 5 1]\n",
      " [4 3 8]]\n",
      "[15 15 15]\n",
      "[15 15 15]\n",
      "15\n"
     ]
    }
   ],
   "source": [
    "import numpy as np\n",
    "arr=np.array([[2,7,6],[9,5,1],[4,3,8]])\n",
    "print(\"sum:\",np.sum(arr))\n",
    "diagonal=np.diagonal(arr)\n",
    "print(diagonal)\n",
    "vstacked=np.vstack([arr])\n",
    "print(vstacked)\n",
    "hstacked=np.hstack([arr])\n",
    "print(hstacked)\n",
    "print(np.sum(arr,axis=0))\n",
    "print(np.sum(arr,axis=1))\n",
    "print(np.sum(diagonal))\n"
   ]
  },
  {
   "cell_type": "code",
   "execution_count": 5,
   "id": "b81bc58d-c9a3-4b86-849a-35947c9eeadb",
   "metadata": {},
   "outputs": [
    {
     "name": "stdin",
     "output_type": "stream",
     "text": [
      "enter numbers: 9\n",
      "enter 1 value: 4\n",
      "enter 2 value: 9\n",
      "enter 3 value: 2\n",
      "enter 4 value: 3\n",
      "enter 5 value: 5\n",
      "enter 6 value: 7\n",
      "enter 7 value: 8\n",
      "enter 8 value: 1\n",
      "enter 9 value: 6\n"
     ]
    },
    {
     "name": "stdout",
     "output_type": "stream",
     "text": [
      "[1 2 3 4 5 6 7 8 9]\n",
      "9\n",
      "9\n",
      "[[4 9 2]\n",
      " [3 5 7]\n",
      " [8 1 6]]\n",
      "[15 15 15]\n",
      "[15 15 15]\n",
      "magic\n"
     ]
    }
   ],
   "source": [
    "import numpy as np\n",
    "a=[]\n",
    "r=int(input(\"enter numbers:\"))\n",
    "for i in range(r):\n",
    "    c=int(input(\"enter \"+str(i+1)+\" value:\"))\n",
    "    a.append(c)\n",
    "arr_2d=np.array(a)\n",
    "unique_elements=np.unique(arr_2d)\n",
    "print(unique_elements)\n",
    "a=np.size(arr_2d)\n",
    "print(a)\n",
    "b=np.size(unique_elements)\n",
    "print(b)\n",
    "reshaped_arr=arr_2d.reshape(3,3)\n",
    "print(reshaped_arr)\n",
    "x=np.sum(reshaped_arr,axis=0)#column\n",
    "y=np.sum(reshaped_arr,axis=1)\n",
    "t=np.trace(reshaped_arr)\n",
    "print(x)\n",
    "print(y)\n",
    "if np.unique(x)==np.unique(y)==t:\n",
    "   print(\"magic\")\n",
    "else:\n",
    "   print(\"not magic\")"
   ]
  },
  {
   "cell_type": "code",
   "execution_count": 15,
   "id": "5bee5719-6d5a-46a2-8334-62774714a7df",
   "metadata": {},
   "outputs": [
    {
     "name": "stdout",
     "output_type": "stream",
     "text": [
      "[0, 1, 2, 3, 4, 5, 6, 7, 8, 9]\n"
     ]
    }
   ],
   "source": [
    "import numpy as np\n",
    "A=[]\n",
    "A=list(map(lambda x: x, range(0, 10)))\n",
    "print(A)"
   ]
  },
  {
   "cell_type": "code",
   "execution_count": 17,
   "id": "f67320a8-10d2-4ae8-bb87-7f0a0bb20b44",
   "metadata": {},
   "outputs": [
    {
     "name": "stdout",
     "output_type": "stream",
     "text": [
      "[[ 8 12 10]\n",
      " [19  1 11]\n",
      " [16  8  2]]\n",
      "sum: [30 31 26]\n"
     ]
    }
   ],
   "source": [
    "import numpy as np\n",
    "arr=np.random.randint(1,20,(3,3))\n",
    "print(arr)\n",
    "print(\"sum:\",np.sum(arr,axis=1))\n",
    "\n"
   ]
  },
  {
   "cell_type": "code",
   "execution_count": 19,
   "id": "1668cb88-dd05-421a-8efb-6f0c741a1ecd",
   "metadata": {},
   "outputs": [
    {
     "name": "stdout",
     "output_type": "stream",
     "text": [
      "[[ 6  8]\n",
      " [10 12]]\n",
      "[[ 5 12]\n",
      " [21 32]]\n",
      "[[19 22]\n",
      " [43 50]]\n"
     ]
    }
   ],
   "source": [
    "import numpy as np\n",
    "A=[[1,2],[3,4]]\n",
    "B=[[5,6],[7,8]]\n",
    "add=np.add(A,B)\n",
    "print(add)\n",
    "mul=np.multiply(A,B)\n",
    "print(mul)\n",
    "dot=np.dot(A,B)\n",
    "print(dot)\n",
    "\n"
   ]
  },
  {
   "cell_type": "code",
   "execution_count": 21,
   "id": "6428b12b-bd62-4001-8931-ee2a83f475d9",
   "metadata": {},
   "outputs": [
    {
     "name": "stdout",
     "output_type": "stream",
     "text": [
      "[ 7  9 11 13]\n",
      "[ 6 14 24 36]\n",
      "80\n"
     ]
    }
   ],
   "source": [
    "import numpy as np\n",
    "A=[]\n",
    "B=[]\n",
    "A=list(map(lambda x: x, range(1, 5)))\n",
    "B=list(map(lambda x: x, range(6,10)))\n",
    "add=np.add(A,B)\n",
    "print(add)\n",
    "mul=np.multiply(A,B)\n",
    "print(mul)\n",
    "dot=np.dot(A,B)\n",
    "print(dot)\n"
   ]
  },
  {
   "cell_type": "code",
   "execution_count": 23,
   "id": "a37015b6-23ff-46e8-a4aa-3e4a05e33969",
   "metadata": {},
   "outputs": [
    {
     "name": "stdout",
     "output_type": "stream",
     "text": [
      "Matrix Multiplication (using dot):\n",
      " [[19 22]\n",
      " [43 50]]\n",
      "Matrix Multiplication (using @):\n",
      " [[19 22]\n",
      " [43 50]]\n"
     ]
    }
   ],
   "source": [
    "import numpy as np\n",
    "A = np.array([[1, 2], [3, 4]])\n",
    "B = np.array([[5, 6], [7, 8]])\n",
    "result = np.dot(A, B)\n",
    "print(\"Matrix Multiplication (using dot):\\n\", result)\n",
    "result2 = A @ B\n",
    "print(\"Matrix Multiplication (using @):\\n\", result2)"
   ]
  },
  {
   "cell_type": "code",
   "execution_count": 25,
   "id": "a0189f66-ab54-4f9a-971d-82732d83a791",
   "metadata": {},
   "outputs": [
    {
     "name": "stdout",
     "output_type": "stream",
     "text": [
      "Mask for even numbers: [False  True False  True False  True]\n",
      "Even Numbers: [2 4 6]\n"
     ]
    }
   ],
   "source": [
    "import numpy as np\n",
    "arr = np.array([1, 2, 3, 4, 5, 6])\n",
    "mask = arr % 2 == 0\n",
    "print(\"Mask for even numbers:\", mask)\n",
    "even_numbers = arr[mask]\n",
    "print(\"Even Numbers:\", even_numbers)"
   ]
  },
  {
   "cell_type": "code",
   "execution_count": 27,
   "id": "c9498e07-24b2-4c48-b592-e02ff1ab91ed",
   "metadata": {},
   "outputs": [
    {
     "name": "stdout",
     "output_type": "stream",
     "text": [
      "Elements at indices 0, 2, 4: [10 30 50]\n"
     ]
    }
   ],
   "source": [
    "import numpy as np\n",
    "arr = np.array([10, 20, 30, 40, 50])\n",
    "indices = [0, 2, 4]\n",
    "result = arr[indices]\n",
    "print(\"Elements at indices 0, 2, 4:\", result)"
   ]
  },
  {
   "cell_type": "code",
   "execution_count": 29,
   "id": "204bdc16-c0ec-40c7-916b-f30af779322a",
   "metadata": {},
   "outputs": [
    {
     "name": "stdout",
     "output_type": "stream",
     "text": [
      "sine_values: [0.0000000e+00 1.0000000e+00 1.2246468e-16]\n",
      "cosine_values: [ 1.000000e+00  6.123234e-17 -1.000000e+00]\n",
      "tangent_values: [ 0.00000000e+00  1.63312394e+16 -1.22464680e-16]\n"
     ]
    }
   ],
   "source": [
    "import numpy as np\n",
    "angles=np.array([0,np.pi/2,np.pi])\n",
    "sine_values=np.sin(angles)\n",
    "cosine_values=np.cos(angles)\n",
    "tangent_values=np.tan(angles)\n",
    "print(\"sine_values:\",sine_values)\n",
    "print(\"cosine_values:\",cosine_values)\n",
    "print(\"tangent_values:\",tangent_values)"
   ]
  },
  {
   "cell_type": "code",
   "execution_count": 31,
   "id": "37e1642e-a906-4336-afa8-127277ebb60f",
   "metadata": {},
   "outputs": [
    {
     "name": "stdout",
     "output_type": "stream",
     "text": [
      "arcsin(1): 90.0\n"
     ]
    }
   ],
   "source": [
    "import numpy as np\n",
    "arcsin_values=np.arcsin(1)\n",
    "print(\"arcsin(1):\",np.degrees(arcsin_values))"
   ]
  },
  {
   "cell_type": "code",
   "execution_count": 33,
   "id": "03fcf60c-b8f4-4b6c-a9b9-057f04040353",
   "metadata": {},
   "outputs": [
    {
     "name": "stdout",
     "output_type": "stream",
     "text": [
      "exponential values: [ 2.71828183  7.3890561  20.08553692]\n",
      "Natural log: [0.         0.69314718 1.09861229]\n",
      "log base 10: [0.         0.30103    0.47712125]\n"
     ]
    }
   ],
   "source": [
    "import numpy as np\n",
    "arr=np.array([1,2,3])\n",
    "exp_values=np.exp(arr)\n",
    "print(\"exponential values:\",exp_values)\n",
    "log_values=np.log(arr)\n",
    "print(\"Natural log:\",log_values)\n",
    "log10_values=np.log10(arr)\n",
    "print(\"log base 10:\",log10_values) "
   ]
  },
  {
   "cell_type": "code",
   "execution_count": 35,
   "id": "0b391621-bb60-4147-8c18-b4d0c3e6b894",
   "metadata": {},
   "outputs": [
    {
     "name": "stdout",
     "output_type": "stream",
     "text": [
      "Rounded values: [2. 2. 4.]\n",
      "floored values: [1. 2. 3.]\n",
      "ceiled values: [2. 3. 4.]\n"
     ]
    }
   ],
   "source": [
    "import numpy as np\n",
    "arr=np.array([1.56,2.35,3.89])\n",
    "rounded=np.round(arr)\n",
    "print(\"Rounded values:\",rounded)\n",
    "floored=np.floor(arr)\n",
    "print(\"floored values:\",floored)\n",
    "ceiled=np.ceil(arr)\n",
    "print(\"ceiled values:\",ceiled)"
   ]
  },
  {
   "cell_type": "code",
   "execution_count": 37,
   "id": "5fdbd416-207c-4986-95ed-57e0944c8ff5",
   "metadata": {},
   "outputs": [
    {
     "name": "stdout",
     "output_type": "stream",
     "text": [
      "mean: 3.0\n",
      "median: 3.0\n",
      "variance: 2.0\n",
      "standard deviation: 1.4142135623730951\n"
     ]
    }
   ],
   "source": [
    "import numpy as np\n",
    "data=np.array([1,2,3,4,5])\n",
    "mean_value=np.mean(data)\n",
    "print(\"mean:\",mean_value)\n",
    "median_value=np.median(data)\n",
    "print(\"median:\",median_value)\n",
    "variance_value=np.var(data)\n",
    "print(\"variance:\",variance_value)\n",
    "std_dev_value=np.std(data)\n",
    "print(\"standard deviation:\",std_dev_value)\n"
   ]
  },
  {
   "cell_type": "code",
   "execution_count": 39,
   "id": "f791cf0c-f63f-4a8c-bb53-869fb95dc41e",
   "metadata": {},
   "outputs": [
    {
     "name": "stdout",
     "output_type": "stream",
     "text": [
      "solution: [ 2.  3. -1.]\n"
     ]
    }
   ],
   "source": [
    "import numpy as np\n",
    "A=np.array([[2,1,-1],[-3,-1,2],[-2,1,2]])\n",
    "B=np.array([8,-11,-3])\n",
    "x=np.linalg.solve(A,B)\n",
    "print(\"solution:\",x)"
   ]
  },
  {
   "cell_type": "code",
   "execution_count": 41,
   "id": "e0b5d97f-08d5-4407-befa-bae35004cfdc",
   "metadata": {},
   "outputs": [
    {
     "name": "stdout",
     "output_type": "stream",
     "text": [
      "solution: [-1.   1.5]\n"
     ]
    }
   ],
   "source": [
    "import numpy as np\n",
    "A=np.array([[1,2],[3,4]])\n",
    "B=np.array([2,3])\n",
    "x=np.linalg.solve(A,B)\n",
    "print(\"solution:\",x)"
   ]
  },
  {
   "cell_type": "code",
   "execution_count": 43,
   "id": "613ec2e1-4ed7-4576-ac57-8a8140aa4d4b",
   "metadata": {},
   "outputs": [
    {
     "name": "stdout",
     "output_type": "stream",
     "text": [
      "nan check: [False  True False False]\n",
      "cleaned array: [ 1. -1.  3.  4.]\n"
     ]
    }
   ],
   "source": [
    "import numpy as np\n",
    "arr=np.array([1,np.nan,3,4])\n",
    "nan_check=np.isnan(arr)\n",
    "print(\"nan check:\",nan_check)\n",
    "arr_cleaned=np.nan_to_num(arr,nan=-1)\n",
    "print(\"cleaned array:\",arr_cleaned)"
   ]
  },
  {
   "cell_type": "code",
   "execution_count": 47,
   "id": "ebd43835-0965-4b3b-bbf3-cc33c7703c32",
   "metadata": {},
   "outputs": [
    {
     "name": "stdout",
     "output_type": "stream",
     "text": [
      "[0.00000e+00 1.00000e+00 2.00000e+00 ... 9.99997e+05 9.99998e+05\n",
      " 9.99999e+05]\n",
      "loop time: 0.2843649387359619\n",
      "numpy time: 0.00958561897277832\n"
     ]
    }
   ],
   "source": [
    "import time\n",
    "import numpy as np\n",
    "arr=np.arange(1e6)\n",
    "print(arr)\n",
    "start=time.time()\n",
    "loop_result=[x**2 for x in arr]\n",
    "end=time.time()\n",
    "print(\"loop time:\",end-start)\n",
    "start=time.time()\n",
    "vectorized_result=arr**2\n",
    "end=time.time()\n",
    "print(\"numpy time:\",end-start)"
   ]
  },
  {
   "cell_type": "code",
   "execution_count": null,
   "id": "4cef870e-6364-4d79-b403-c346623ab104",
   "metadata": {},
   "outputs": [],
   "source": []
  }
 ],
 "metadata": {
  "kernelspec": {
   "display_name": "Python 3 (ipykernel)",
   "language": "python",
   "name": "python3"
  },
  "language_info": {
   "codemirror_mode": {
    "name": "ipython",
    "version": 3
   },
   "file_extension": ".py",
   "mimetype": "text/x-python",
   "name": "python",
   "nbconvert_exporter": "python",
   "pygments_lexer": "ipython3",
   "version": "3.12.7"
  }
 },
 "nbformat": 4,
 "nbformat_minor": 5
}
